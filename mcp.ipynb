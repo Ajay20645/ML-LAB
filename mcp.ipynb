{
  "nbformat": 4,
  "nbformat_minor": 0,
  "metadata": {
    "colab": {
      "provenance": [],
      "authorship_tag": "ABX9TyMb+zorSee9nJf/BjaJnZlY",
      "include_colab_link": true
    },
    "kernelspec": {
      "name": "python3",
      "display_name": "Python 3"
    },
    "language_info": {
      "name": "python"
    }
  },
  "cells": [
    {
      "cell_type": "markdown",
      "metadata": {
        "id": "view-in-github",
        "colab_type": "text"
      },
      "source": [
        "<a href=\"https://colab.research.google.com/github/Ajay20645/ML-LAB/blob/main/mcp.ipynb\" target=\"_parent\"><img src=\"https://colab.research.google.com/assets/colab-badge.svg\" alt=\"Open In Colab\"/></a>"
      ]
    },
    {
      "cell_type": "code",
      "execution_count": null,
      "metadata": {
        "colab": {
          "base_uri": "https://localhost:8080/"
        },
        "id": "hGyF_IZCDq-k",
        "outputId": "49efe02b-d09f-446e-a999-ffaf76047b57"
      },
      "outputs": [
        {
          "output_type": "stream",
          "name": "stdout",
          "text": [
            "McCulloch-Pitts AND Gate Output:\n",
            "0 AND 0 = 0\n",
            "0 AND 1 = 0\n",
            "1 AND 0 = 0\n",
            "1 AND 1 = 1\n"
          ]
        }
      ],
      "source": [
        "# McCulloch-Pitts Neuron Model for AND Gate\n",
        "def mc_pitts_and_gate(x1, x2):\n",
        "    weights = [1, 1]  # weights for x1 and x2\n",
        "    threshold = 2     # threshold for AND gate\n",
        "    # Compute weighted sum\n",
        "    net_input = x1 * weights[0] + x2 * weights[1]\n",
        "    # Activation (step function)\n",
        "    output = 1 if net_input >= threshold else 0\n",
        "    return output\n",
        "# Test all input combinations\n",
        "inputs = [(0, 0), (0, 1), (1, 0), (1, 1)]\n",
        "print(\"McCulloch-Pitts AND Gate Output:\")\n",
        "for x1, x2 in inputs:\n",
        "    result = mc_pitts_and_gate(x1, x2)\n",
        "    print(f\"{x1} AND {x2} = {result}\")"
      ]
    },
    {
      "cell_type": "code",
      "source": [
        "# McCulloch-Pitts Neuron Model for OR Gate\n",
        "def mc_pitts_or_gate(x1, x2):\n",
        "    weights = [1, 1]  # weights for x1 and x2\n",
        "    threshold = 1     # threshold for OR gate\n",
        "    # Compute weighted sum\n",
        "    net_input = x1 * weights[0] + x2 * weights[1]\n",
        "    # Activation (step function)\n",
        "    output = 1 if net_input >= threshold else 0\n",
        "    return output\n",
        "# Test all input combinations\n",
        "inputs = [(0, 0), (0, 1), (1, 0), (1, 1)]\n",
        "print(\"McCulloch-Pitts OR Gate Output:\")\n",
        "for x1, x2 in inputs:\n",
        "    result = mc_pitts_or_gate(x1, x2)\n",
        "    print(f\"{x1} OR {x2} = {result}\")"
      ],
      "metadata": {
        "colab": {
          "base_uri": "https://localhost:8080/"
        },
        "id": "7tgI5rBZE_UR",
        "outputId": "2c36c154-3902-4215-a4ae-ac8b0ddab436"
      },
      "execution_count": null,
      "outputs": [
        {
          "output_type": "stream",
          "name": "stdout",
          "text": [
            "McCulloch-Pitts OR Gate Output:\n",
            "0 OR 0 = 0\n",
            "0 OR 1 = 1\n",
            "1 OR 0 = 1\n",
            "1 OR 1 = 1\n"
          ]
        }
      ]
    }
  ]
}